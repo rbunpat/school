{
  "nbformat": 4,
  "nbformat_minor": 0,
  "metadata": {
    "colab": {
      "name": "16_if_pt2.ipynb",
      "provenance": [],
      "collapsed_sections": []
    },
    "kernelspec": {
      "name": "python3",
      "display_name": "Python 3"
    },
    "language_info": {
      "name": "python"
    }
  },
  "cells": [
    {
      "cell_type": "markdown",
      "source": [
        "MISSION 11"
      ],
      "metadata": {
        "id": "leflXdNCUTEK"
      }
    },
    {
      "cell_type": "code",
      "execution_count": 1,
      "metadata": {
        "colab": {
          "base_uri": "https://localhost:8080/"
        },
        "id": "a_SvorKBJDzr",
        "outputId": "4238c409-a6e2-4d8c-96da-824a7230e0b0"
      },
      "outputs": [
        {
          "output_type": "stream",
          "name": "stdout",
          "text": [
            "Enter a number: 1\n",
            "First\n"
          ]
        }
      ],
      "source": [
        "arrayFirst = ['1', '2', '3', '4', '5', '6', '7', '8', '9']\n",
        "arraySecond = ['10', '11', '12', '13', '14', '15', '16', '17', '18', '19']\n",
        "arrayThird = ['20', '21', '22', '23', '24', '25', '26', '27', '28', '29']\n",
        "\n",
        "userInput = input(\"Enter a number: \")\n",
        "\n",
        "if userInput in arrayFirst:\n",
        "    print(\"First\")\n",
        "elif userInput in arraySecond:\n",
        "    print(\"Second\")\n",
        "elif userInput in arrayThird:\n",
        "    print(\"Third\")\n",
        "else:\n",
        "    print(\"Error\")"
      ]
    },
    {
      "cell_type": "markdown",
      "source": [
        "MISSION 12"
      ],
      "metadata": {
        "id": "DXNRuUnwUZ1x"
      }
    },
    {
      "cell_type": "code",
      "source": [
        "global salesprice\n",
        "global discountrate\n",
        "global finalprice\n",
        "\n",
        "memberStatus = input(\"Are you a member? (y/n): \")\n",
        "\n",
        "def ismember():\n",
        "    salesprice = input(\"Input price (THB):\")\n",
        "    salesprice = int(salesprice)\n",
        "    if salesprice >= 5000:\n",
        "        discountrate = salesprice * 0.4\n",
        "        print(\"Discount rate:\", discountrate)\n",
        "    elif salesprice < 5000:\n",
        "        discountrate = salesprice * 0.25\n",
        "        print(\"Discount rate:\", discountrate)\n",
        "        \n",
        "def notmember():\n",
        "    salesprice = input(\"Input price (THB):\")\n",
        "    salesprice = int(salesprice)\n",
        "    if salesprice >= 5000:\n",
        "        discountrate = salesprice * 0.25\n",
        "        print(\"Discount rate:\", discountrate)\n",
        "    elif salesprice < 5000:\n",
        "        print(\"No discount\")\n",
        "\n",
        "if memberStatus == \"y\":\n",
        "    ismember()\n",
        "elif memberStatus == \"n\":\n",
        "    notmember()\n",
        "else:\n",
        "    print(\"Error\")\n"
      ],
      "metadata": {
        "colab": {
          "base_uri": "https://localhost:8080/"
        },
        "id": "t70yXXy9NWLs",
        "outputId": "6a17ad8c-bc5c-4663-9404-740f59d9de2a"
      },
      "execution_count": 2,
      "outputs": [
        {
          "output_type": "stream",
          "name": "stdout",
          "text": [
            "Are you a member? (y/n): y\n",
            "Input price (THB):10000000000\n",
            "Discount rate: 4000000000.0\n"
          ]
        }
      ]
    },
    {
      "cell_type": "markdown",
      "source": [
        "MISSION 13"
      ],
      "metadata": {
        "id": "S5Qj582sUbuR"
      }
    },
    {
      "cell_type": "code",
      "source": [
        "color = input(\"Enter a color: \")\n",
        "\n",
        "if color == \"R\":\n",
        "    print(\"เลี้ยวขวา\")\n",
        "elif color == \"B\" or color == \"U\":\n",
        "    print(\"เดินหน้า\")\n",
        "elif color == \"G\":\n",
        "    print(\"กลับหลัง\")\n",
        "elif color == \"Y\" or color == \"P\":\n",
        "    print(\"เลี้ยวซ้าย\")\n",
        "else:\n",
        "    print(\"Error\")\n"
      ],
      "metadata": {
        "colab": {
          "base_uri": "https://localhost:8080/"
        },
        "id": "sOM7uT75SwxO",
        "outputId": "15f9352f-71f5-4e6d-e98e-b833164b90bc"
      },
      "execution_count": 3,
      "outputs": [
        {
          "output_type": "stream",
          "name": "stdout",
          "text": [
            "Enter a color: Y\n",
            "เลี้ยวซ้าย\n"
          ]
        }
      ]
    },
    {
      "cell_type": "markdown",
      "source": [
        "MISSION 14"
      ],
      "metadata": {
        "id": "TuUynQB5Uc7h"
      }
    },
    {
      "cell_type": "code",
      "source": [
        "age = input(\"Enter your age: \")\n",
        "age = int(age)\n",
        "disability = input(\"Are you disabled? (y/n): \")\n",
        "\n",
        "if age >= 60:\n",
        "    if disability == \"y\":\n",
        "        print(\"ยอดเงินได้รับ : 1,000 THB\")\n",
        "    elif disability == \"n\":\n",
        "        print(\"ยอดเงินได้รับ : 600 THB\")\n",
        "elif age < 60 and age > 0:\n",
        "    if disability == \"y\":\n",
        "        print(\"ยอดเงินได้รับ : 400 THB\")\n",
        "    elif disability == \"n\":\n",
        "        print(\"ไม่ได้รับเงิน\")\n",
        "else:\n",
        "    print(\"Error\")"
      ],
      "metadata": {
        "colab": {
          "base_uri": "https://localhost:8080/"
        },
        "id": "f2bFXEm0UNol",
        "outputId": "d5622f39-c5fe-49f5-9cc3-3a6577c96c89"
      },
      "execution_count": 4,
      "outputs": [
        {
          "output_type": "stream",
          "name": "stdout",
          "text": [
            "Enter your age: 69\n",
            "Are you disabled? (y/n): n\n",
            "ยอดเงินได้รับ : 600 THB\n"
          ]
        }
      ]
    }
  ]
}